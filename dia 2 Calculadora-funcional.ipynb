{
 "cells": [
  {
   "cell_type": "code",
   "execution_count": null,
   "metadata": {},
   "outputs": [],
   "source": [
    "OPERATORS = '+', '-', '*', '/'\n",
    "\n",
    "\n",
    "def f_get_number():\n",
    "    return int(input('Enter an integer: '))\n",
    "\n",
    "\n",
    "def f_get_operator():\n",
    "    return input('Enter an operator (+, -, *, /): ')\n",
    "\n",
    "\n",
    "def f_calculate(number1, operator, number2):\n",
    "    return number1+number2 if operator == '+' \\\n",
    "        else number1-number2 if operator == '-' \\\n",
    "        else number1/number2 if operator == '/' \\\n",
    "        else number1*number2 if operator == '*' \\\n",
    "        else None    \n",
    "\n",
    "\n",
    "def f_main():\n",
    "    return f_calculate(\n",
    "        f_get_number(),\n",
    "        f_get_operator(),\n",
    "        f_get_number(),\n",
    "        )\n",
    "\n",
    "\n",
    "print('The result is: %s' % f_main())"
   ]
  },
  {
   "cell_type": "code",
   "execution_count": null,
   "metadata": {},
   "outputs": [],
   "source": []
  },
  {
   "cell_type": "code",
   "execution_count": null,
   "metadata": {},
   "outputs": [],
   "source": []
  }
 ],
 "metadata": {
  "kernelspec": {
   "display_name": "Python 3",
   "language": "python",
   "name": "python3"
  },
  "language_info": {
   "codemirror_mode": {
    "name": "ipython",
    "version": 3
   },
   "file_extension": ".py",
   "mimetype": "text/x-python",
   "name": "python",
   "nbconvert_exporter": "python",
   "pygments_lexer": "ipython3",
   "version": "3.7.6"
  }
 },
 "nbformat": 4,
 "nbformat_minor": 4
}
