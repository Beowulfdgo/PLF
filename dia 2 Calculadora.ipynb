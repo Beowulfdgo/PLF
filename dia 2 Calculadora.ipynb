{
 "cells": [
  {
   "cell_type": "code",
   "execution_count": null,
   "metadata": {},
   "outputs": [],
   "source": [
    "OPERATORS = '+', '-', '*', '/'\n",
    "\n",
    "\n",
    "def p_main():\n",
    "    \n",
    "    \"\"\"The main flow.\"\"\"\n",
    "\n",
    "    print('Bienvenido a la casi calcaludora!')\n",
    "    number1 = p_get_number()\n",
    "    operator = p_get_operator()\n",
    "    number2 = p_get_number()\n",
    "    result = p_calculate(number1, operator, number2)\n",
    "    print('El resultado es: %s' % result)\n",
    "\n",
    "\n",
    "def p_get_number():\n",
    "    \n",
    "    \"\"\"Lee un integer de una entrada estandar y lo retorna.\n",
    "    Si no es un valor integer (non-integer) el que se introduce,un warning es impreseo,\n",
    "    y un nuevo valor es leido.\"\"\"\n",
    "            \n",
    "    while True:\n",
    "        s = input('Enter un integer: ')\n",
    "        try:\n",
    "            return int(s)\n",
    "        except ValueError:\n",
    "            print('Este no es un  integer!')\n",
    "            \n",
    "\n",
    "def p_get_operator():\n",
    "    \n",
    "    \"\"\"Lee el operador de una intrada estandar y lo returna.\n",
    "    Un operador valido es : +, -, *, and /. Si se introduce un invalid operador\n",
    "    , un warning es impreso, y un nuevo valor es leido.\"\"\"    \n",
    "    \n",
    "    while True:\n",
    "        s = input('Enter an operator (+, -, *, or /): ')\n",
    "        if s in OPERATORS:\n",
    "            return s\n",
    "        print('No es un operator!')\n",
    "            \n",
    "            \n",
    "def p_calculate(number1, operator, number2):\n",
    "    \n",
    "    \"\"\"Ejecuta una calculadora con 2 numeros y un operador,\n",
    "    y regresa el resultado.\"\"\"\n",
    "    \n",
    "    if operator == '+':\n",
    "        return number1 + number2\n",
    "    if operator == '-':\n",
    "        return number1 - number2\n",
    "    if operator == '*':\n",
    "        return number1 * number2\n",
    "    if operator == '/':\n",
    "        return number1 / number2\n",
    "    raise Exception('Invalid operator!')\n",
    "\n",
    "    \n",
    "p_main()"
   ]
  },
  {
   "cell_type": "code",
   "execution_count": null,
   "metadata": {},
   "outputs": [],
   "source": []
  },
  {
   "cell_type": "code",
   "execution_count": null,
   "metadata": {},
   "outputs": [],
   "source": []
  }
 ],
 "metadata": {
  "kernelspec": {
   "display_name": "Python 3",
   "language": "python",
   "name": "python3"
  },
  "language_info": {
   "codemirror_mode": {
    "name": "ipython",
    "version": 3
   },
   "file_extension": ".py",
   "mimetype": "text/x-python",
   "name": "python",
   "nbconvert_exporter": "python",
   "pygments_lexer": "ipython3",
   "version": "3.7.6"
  }
 },
 "nbformat": 4,
 "nbformat_minor": 4
}
